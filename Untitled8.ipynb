{
 "cells": [
  {
   "cell_type": "code",
   "execution_count": null,
   "id": "b98ea5d8-5aa7-41da-9fdf-93639ea51e8b",
   "metadata": {},
   "outputs": [],
   "source": [
    "# 生成 HTML 代码，并保存为一个文件\n",
    "html_code = \"\"\"\n",
    "<!DOCTYPE html>\n",
    "<html lang=\"zh\">\n",
    "<head>\n",
    "    <meta charset=\"UTF-8\">\n",
    "    <meta name=\"viewport\" content=\"width=device-width, initial-scale=1.0\">\n",
    "    <title>Redirecting...</title>\n",
    "    <!-- 设置 Meta 标签，在页面加载 5 秒后自动重定向到新 URL -->\n",
    "    <meta http-equiv=\"refresh\" content=\"5; url=https://youtu.be/2dAXBFAOCUk\">\n",
    "</head>\n",
    "<body>\n",
    "    <h1>正在重定向...</h1>\n",
    "    <p>如果页面没有自动跳转，请点击 <a href=\"https://youtu.be/2dAXBFAOCUk\">这里</a>。</p>\n",
    "</body>\n",
    "</html>\n",
    "\"\"\"\n",
    "\n",
    "# 保存为 HTML 文件\n",
    "with open(\"redirect_page.html\", \"w\", encoding=\"utf-8\") as f:\n",
    "    f.write(html_code)\n",
    "\n",
    "print(\"HTML 文件已保存为 'redirect_page.html'\")\n"
   ]
  }
 ],
 "metadata": {
  "kernelspec": {
   "display_name": "Python 3 (ipykernel)",
   "language": "python",
   "name": "python3"
  },
  "language_info": {
   "codemirror_mode": {
    "name": "ipython",
    "version": 3
   },
   "file_extension": ".py",
   "mimetype": "text/x-python",
   "name": "python",
   "nbconvert_exporter": "python",
   "pygments_lexer": "ipython3",
   "version": "3.12.4"
  }
 },
 "nbformat": 4,
 "nbformat_minor": 5
}
